{
 "cells": [
  {
   "cell_type": "markdown",
   "id": "596ec0ce",
   "metadata": {},
   "source": [
    "# 1.Create DataFrame using Pandas:"
   ]
  },
  {
   "cell_type": "code",
   "execution_count": 3,
   "id": "9fe1b25d",
   "metadata": {},
   "outputs": [],
   "source": [
    "import warnings\n",
    "warnings.filterwarnings('ignore')   # Ignore any warnings during execution\n",
    "import pandas as pd\n",
    "\n",
    "# Create a DataFrame with student data\n",
    "dataset=pd.DataFrame({'Name':['Github','Tom','Jerry','Ben10','Jacki Chan'],'Age':[20,23,22,25,30],\n",
    "                      'RollNo':[1,2,3,4,5]})"
   ]
  },
  {
   "cell_type": "code",
   "execution_count": 4,
   "id": "ca6a0fa4",
   "metadata": {},
   "outputs": [
    {
     "data": {
      "text/html": [
       "<div>\n",
       "<style scoped>\n",
       "    .dataframe tbody tr th:only-of-type {\n",
       "        vertical-align: middle;\n",
       "    }\n",
       "\n",
       "    .dataframe tbody tr th {\n",
       "        vertical-align: top;\n",
       "    }\n",
       "\n",
       "    .dataframe thead th {\n",
       "        text-align: right;\n",
       "    }\n",
       "</style>\n",
       "<table border=\"1\" class=\"dataframe\">\n",
       "  <thead>\n",
       "    <tr style=\"text-align: right;\">\n",
       "      <th></th>\n",
       "      <th>Name</th>\n",
       "      <th>Age</th>\n",
       "      <th>RollNo</th>\n",
       "    </tr>\n",
       "  </thead>\n",
       "  <tbody>\n",
       "    <tr>\n",
       "      <th>0</th>\n",
       "      <td>Github</td>\n",
       "      <td>20</td>\n",
       "      <td>1</td>\n",
       "    </tr>\n",
       "    <tr>\n",
       "      <th>1</th>\n",
       "      <td>Tom</td>\n",
       "      <td>23</td>\n",
       "      <td>2</td>\n",
       "    </tr>\n",
       "    <tr>\n",
       "      <th>2</th>\n",
       "      <td>Jerry</td>\n",
       "      <td>22</td>\n",
       "      <td>3</td>\n",
       "    </tr>\n",
       "    <tr>\n",
       "      <th>3</th>\n",
       "      <td>Ben10</td>\n",
       "      <td>25</td>\n",
       "      <td>4</td>\n",
       "    </tr>\n",
       "    <tr>\n",
       "      <th>4</th>\n",
       "      <td>Jacki Chan</td>\n",
       "      <td>30</td>\n",
       "      <td>5</td>\n",
       "    </tr>\n",
       "  </tbody>\n",
       "</table>\n",
       "</div>"
      ],
      "text/plain": [
       "         Name  Age  RollNo\n",
       "0      Github   20       1\n",
       "1         Tom   23       2\n",
       "2       Jerry   22       3\n",
       "3       Ben10   25       4\n",
       "4  Jacki Chan   30       5"
      ]
     },
     "execution_count": 4,
     "metadata": {},
     "output_type": "execute_result"
    }
   ],
   "source": [
    "# Display the dataframe\n",
    "dataset"
   ]
  },
  {
   "cell_type": "code",
   "execution_count": 5,
   "id": "3ce1ca22",
   "metadata": {},
   "outputs": [
    {
     "data": {
      "text/plain": [
       "(5, 3)"
      ]
     },
     "execution_count": 5,
     "metadata": {},
     "output_type": "execute_result"
    }
   ],
   "source": [
    "# Find the shape of the dataframe like rows and columns\n",
    "dataset.shape"
   ]
  },
  {
   "cell_type": "markdown",
   "id": "5fb95b85",
   "metadata": {},
   "source": [
    "# 2.Create DataFrame using Numpy:"
   ]
  },
  {
   "cell_type": "code",
   "execution_count": 16,
   "id": "21897d2d",
   "metadata": {},
   "outputs": [
    {
     "data": {
      "text/html": [
       "<div>\n",
       "<style scoped>\n",
       "    .dataframe tbody tr th:only-of-type {\n",
       "        vertical-align: middle;\n",
       "    }\n",
       "\n",
       "    .dataframe tbody tr th {\n",
       "        vertical-align: top;\n",
       "    }\n",
       "\n",
       "    .dataframe thead th {\n",
       "        text-align: right;\n",
       "    }\n",
       "</style>\n",
       "<table border=\"1\" class=\"dataframe\">\n",
       "  <thead>\n",
       "    <tr style=\"text-align: right;\">\n",
       "      <th></th>\n",
       "      <th>Name</th>\n",
       "      <th>Age</th>\n",
       "      <th>Rollno</th>\n",
       "    </tr>\n",
       "  </thead>\n",
       "  <tbody>\n",
       "    <tr>\n",
       "      <th>0</th>\n",
       "      <td>Github</td>\n",
       "      <td>21</td>\n",
       "      <td>1</td>\n",
       "    </tr>\n",
       "    <tr>\n",
       "      <th>1</th>\n",
       "      <td>Tom</td>\n",
       "      <td>23</td>\n",
       "      <td>2</td>\n",
       "    </tr>\n",
       "    <tr>\n",
       "      <th>2</th>\n",
       "      <td>Jerry</td>\n",
       "      <td>24</td>\n",
       "      <td>3</td>\n",
       "    </tr>\n",
       "    <tr>\n",
       "      <th>3</th>\n",
       "      <td>Ben10</td>\n",
       "      <td>25</td>\n",
       "      <td>4</td>\n",
       "    </tr>\n",
       "    <tr>\n",
       "      <th>4</th>\n",
       "      <td>Jacki Chan</td>\n",
       "      <td>26</td>\n",
       "      <td>5</td>\n",
       "    </tr>\n",
       "  </tbody>\n",
       "</table>\n",
       "</div>"
      ],
      "text/plain": [
       "         Name Age Rollno\n",
       "0      Github  21      1\n",
       "1         Tom  23      2\n",
       "2       Jerry  24      3\n",
       "3       Ben10  25      4\n",
       "4  Jacki Chan  26      5"
      ]
     },
     "execution_count": 16,
     "metadata": {},
     "output_type": "execute_result"
    }
   ],
   "source": [
    "import numpy as np\n",
    "\n",
    "# Create a DataFrame with student data using numpy\n",
    "data=np.array([['Github',21,1],['Tom',23,2],['Jerry',24,3],['Ben10',25,4],['Jacki Chan',26,5]])\n",
    "column=['Name','Age','Rollno']\n",
    "data=pd.DataFrame(data=data,columns=column)\n",
    "data"
   ]
  },
  {
   "cell_type": "code",
   "execution_count": 17,
   "id": "483bc091",
   "metadata": {},
   "outputs": [
    {
     "data": {
      "text/plain": [
       "(5, 3)"
      ]
     },
     "execution_count": 17,
     "metadata": {},
     "output_type": "execute_result"
    }
   ],
   "source": [
    "data.shape"
   ]
  },
  {
   "cell_type": "markdown",
   "id": "e5e3db0f",
   "metadata": {},
   "source": [
    "# 3.Create DataFrame using Looping method"
   ]
  },
  {
   "cell_type": "code",
   "execution_count": 18,
   "id": "21ca5e67",
   "metadata": {},
   "outputs": [
    {
     "name": "stdout",
     "output_type": "stream",
     "text": [
      "Enter the number of students: 5\n",
      "Enter Name for student : Github\n",
      "Enter Age for student : 21\n",
      "Enter Roll No for student : 1\n",
      "Data Frame Created\n",
      "Enter Name for student : Tom\n",
      "Enter Age for student : 22\n",
      "Enter Roll No for student : 2\n",
      "Data Frame Created\n",
      "Enter Name for student : Jerry\n",
      "Enter Age for student : 23\n",
      "Enter Roll No for student : 3\n",
      "Data Frame Created\n",
      "Enter Name for student : Ben10\n",
      "Enter Age for student : 24\n",
      "Enter Roll No for student : 4\n",
      "Data Frame Created\n",
      "Enter Name for student : Jacki Chan\n",
      "Enter Age for student : 25\n",
      "Enter Roll No for student : 5\n",
      "Data Frame Created\n"
     ]
    }
   ],
   "source": [
    "import pandas as pd\n",
    "\n",
    "# Create an empty DataFrame with columns 'Name', 'Age', 'Roll No'\n",
    "df = pd.DataFrame(columns=['Name', 'Age', 'Roll No'])\n",
    "\n",
    "# Ask user to input the number of students\n",
    "num_students = int(input(\"Enter the number of students: \"))\n",
    "\n",
    "# Iterate over the number of students\n",
    "for i in range(num_students):\n",
    "    \n",
    "    # Prompt user to input data for each student\n",
    "    name = input(\"Enter Name for student : \".format(i + 1))\n",
    "    age = input(\"Enter Age for student : \".format(i + 1))\n",
    "    roll_no = input(\"Enter Roll No for student : \".format(i + 1))\n",
    "    \n",
    "    # Append the entered data as a new row to the DataFrame\n",
    "    df = df.append({'Name': name, 'Age': age, 'Roll No': roll_no}, ignore_index=True)\n",
    "    \n",
    "    # Print message to indicate DataFrame creation\n",
    "    print(\"Data Frame Created\")\n",
    "    \n",
    "    # Display the DataFrame\n",
    "    df\n",
    "\n"
   ]
  },
  {
   "cell_type": "code",
   "execution_count": 19,
   "id": "1bef9359",
   "metadata": {},
   "outputs": [
    {
     "data": {
      "text/html": [
       "<div>\n",
       "<style scoped>\n",
       "    .dataframe tbody tr th:only-of-type {\n",
       "        vertical-align: middle;\n",
       "    }\n",
       "\n",
       "    .dataframe tbody tr th {\n",
       "        vertical-align: top;\n",
       "    }\n",
       "\n",
       "    .dataframe thead th {\n",
       "        text-align: right;\n",
       "    }\n",
       "</style>\n",
       "<table border=\"1\" class=\"dataframe\">\n",
       "  <thead>\n",
       "    <tr style=\"text-align: right;\">\n",
       "      <th></th>\n",
       "      <th>Name</th>\n",
       "      <th>Age</th>\n",
       "      <th>Roll No</th>\n",
       "    </tr>\n",
       "  </thead>\n",
       "  <tbody>\n",
       "    <tr>\n",
       "      <th>0</th>\n",
       "      <td>Github</td>\n",
       "      <td>21</td>\n",
       "      <td>1</td>\n",
       "    </tr>\n",
       "    <tr>\n",
       "      <th>1</th>\n",
       "      <td>Tom</td>\n",
       "      <td>22</td>\n",
       "      <td>2</td>\n",
       "    </tr>\n",
       "    <tr>\n",
       "      <th>2</th>\n",
       "      <td>Jerry</td>\n",
       "      <td>23</td>\n",
       "      <td>3</td>\n",
       "    </tr>\n",
       "    <tr>\n",
       "      <th>3</th>\n",
       "      <td>Ben10</td>\n",
       "      <td>24</td>\n",
       "      <td>4</td>\n",
       "    </tr>\n",
       "    <tr>\n",
       "      <th>4</th>\n",
       "      <td>Jacki Chan</td>\n",
       "      <td>25</td>\n",
       "      <td>5</td>\n",
       "    </tr>\n",
       "  </tbody>\n",
       "</table>\n",
       "</div>"
      ],
      "text/plain": [
       "         Name Age Roll No\n",
       "0      Github  21       1\n",
       "1         Tom  22       2\n",
       "2       Jerry  23       3\n",
       "3       Ben10  24       4\n",
       "4  Jacki Chan  25       5"
      ]
     },
     "execution_count": 19,
     "metadata": {},
     "output_type": "execute_result"
    }
   ],
   "source": [
    "df # display the dataframe"
   ]
  },
  {
   "cell_type": "code",
   "execution_count": 20,
   "id": "5201d002",
   "metadata": {},
   "outputs": [
    {
     "data": {
      "text/plain": [
       "(5, 3)"
      ]
     },
     "execution_count": 20,
     "metadata": {},
     "output_type": "execute_result"
    }
   ],
   "source": [
    "df.shape"
   ]
  }
 ],
 "metadata": {
  "kernelspec": {
   "display_name": "Python 3 (ipykernel)",
   "language": "python",
   "name": "python3"
  },
  "language_info": {
   "codemirror_mode": {
    "name": "ipython",
    "version": 3
   },
   "file_extension": ".py",
   "mimetype": "text/x-python",
   "name": "python",
   "nbconvert_exporter": "python",
   "pygments_lexer": "ipython3",
   "version": "3.10.9"
  }
 },
 "nbformat": 4,
 "nbformat_minor": 5
}
